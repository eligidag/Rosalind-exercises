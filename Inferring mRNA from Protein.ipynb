{
 "cells": [
  {
   "cell_type": "code",
   "execution_count": 1,
   "metadata": {},
   "outputs": [],
   "source": [
    "#Problem\n",
    "\n",
    "#For positive integers a and n, a modulo n (written amodn in shorthand) is the remainder when a is divided by n. For example, 29mod11=7 because 29=11×2+7.\n",
    "\n",
    "#Modular arithmetic is the study of addition, subtraction, multiplication, and division with respect to the modulo operation.\n",
    "#We say that a and b are congruent modulo n if amodn=bmodn; in this case, we use the notation a≡bmodn.\n",
    "\n",
    "#Two useful facts in modular arithmetic are that if a≡bmodn and c≡dmodn, then a+c≡b+dmodn and a×c≡b×dmodn.\n",
    "#To check your understanding of these rules, you may wish to verify these relationships for a=29, b=73, c=10, d=32, and n=11.\n",
    "\n",
    "#As you will see in this exercise, some Rosalind problems will ask for a (very large) integer solution modulo a smaller number to avoid the computational pitfalls that arise with storing such large numbers.\n",
    "\n",
    "#Given: A protein string of length at most 1000 aa.\n",
    "\n",
    "#Return: The total number of different RNA strings from which the protein could have been translated, modulo 1,000,000. (Don't neglect the importance of the stop codon in protein translation.)"
   ]
  },
  {
   "cell_type": "code",
   "execution_count": 8,
   "metadata": {},
   "outputs": [
    {
     "name": "stdout",
     "output_type": "stream",
     "text": [
      "6\n",
      "6\n",
      "4\n",
      "4\n",
      "355264\n"
     ]
    }
   ],
   "source": [
    "a = 29\n",
    "b = 73\n",
    "c = 10\n",
    "d = 32\n",
    "n = 11\n",
    "\n",
    "#a≡b mod n and c≡d mod n, then a+c≡b+d mod n and a×c≡b×d mod n\n",
    "\n",
    "#addition\n",
    "sum_ac_mod = (a + c) % n \n",
    "sum_bd_mod = (b + d) % n\n",
    "\n",
    "print(sum_ac_mod)\n",
    "print(sum_bd_mod)\n",
    "\n",
    "#multiplication\n",
    "mult_ac_mod = (a * c) % n\n",
    "mult_bd_mod = (b * d) % n\n",
    "print(mult_ac_mod)\n",
    "print(mult_bd_mod)\n",
    "\n",
    "#problem\n",
    "\n",
    "string = \"MHPVPNSKCQNTHNQSQNATEVSDTTENFQMTRNYAGAHGDEMNCQRDNMIYLPGWWTVHLLRGYNVPRECFYGQWENLLAGYWWQYPACKMQFDNPAFEGTCCFAWSRMPYMNHHTTKMLPEYMKRHLSGQHMYNPQWRCMMYVGKHVLDYQTFYPQKPLWRHFLQERSPIHIRQVSGHMTEWFLGCVIYHHWGWHLHEFIMHWSLGKNERNKFRGHRVFSSYKRGAMHGKTTHYITIHFKDDNRQDDVQMGSIREFTAARRPTEEIANHMWHIHSNWWTPWYRHLQDFSPPHDLFGGFNIANWKDKAVMRHQIFHKEALKNFPDNYDCMMDKWFADFPFKDDITYVGPCVYTWDEYQKMQGFGRIYWVVHNVMAVYDSFSAQRFIIPVETIDTMPGLREKRHDRDNRKHYSKICWSYNAHMQQKDPRIGRCCRCFFEGDLVDWFCCIRSLLDFTRQEDSGWIHLNHDANYQRKQQVYDWPVAKISPHHYTYDRIITCSNFCWCVVFVMWFCTPCLKNPMCEWAIMNVCYEWHNCRMPGTSFAIPKYDNVHRLCIEYAPGKWERVFRIMSIAGLHKKMFNGMAKQHMMCYFFLTTGFWVSATMSACAWCWKWRLGCLDCQKANFCYPCPVWTIKYTPELCNVVMWYGWLDHAWKSGNQIRYGANINLKFGDLQCQHEHEEQGPAFHWEVYACQADCFHAMIYFFTVQDYMDLHGALRHWTMRDRNYMTPFTVVAKFQYSGLCLEKAQIELGGCQQDVSITFQNKPMESPEIVEPHTPQLCLVLSECYSFQTTDKNMWMSRWRECYLQESQPFTGQCYNGRCEQVGWVDYQTEKFHATSWNRDKGPIVDQSKTESILDCLTLNPVLYYVLKVGMTYKVNLTNTQCAQWHSELPPQYQMYHECPWVCFFFQEPQDKWSTYFARALWCPFNQDQIMHVHNCDCRIRHVKAYGLHNGVAFLRDPSSKATEDPCMGWWVTTFDPEYVHCATHGDYACWSYCV\"\n",
    "\n",
    "\n",
    "codon_frequencies = {\n",
    "'A': 4, 'C': 2, 'D': 2, 'E': 2, 'F': 2, 'G': 4, 'H': 2,\n",
    "'I': 3, 'K': 2, 'L': 6, 'M': 1, 'N': 2, 'P': 4, 'Q': 2,\n",
    "'R': 6, 'S': 6, 'T': 4, 'V': 4, 'W': 1, 'Y': 2, 'Stop': 3\n",
    "}\n",
    "\n",
    "total_strings = 1\n",
    "\n",
    "for AA in string:\n",
    "    total_strings *= codon_frequencies[AA]\n",
    "    total_strings %= 1_000_000\n",
    "\n",
    "#deals with stop codon\n",
    "total_strings *= codon_frequencies[\"Stop\"]\n",
    "total_strings %= 1_000_000\n",
    "\n",
    "print(total_strings)\n",
    "\n",
    "\n",
    "\n"
   ]
  }
 ],
 "metadata": {
  "kernelspec": {
   "display_name": "Python 3",
   "language": "python",
   "name": "python3"
  },
  "language_info": {
   "codemirror_mode": {
    "name": "ipython",
    "version": 3
   },
   "file_extension": ".py",
   "mimetype": "text/x-python",
   "name": "python",
   "nbconvert_exporter": "python",
   "pygments_lexer": "ipython3",
   "version": "3.11.5"
  }
 },
 "nbformat": 4,
 "nbformat_minor": 2
}
