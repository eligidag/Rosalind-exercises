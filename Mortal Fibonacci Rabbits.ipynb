{
 "cells": [
  {
   "cell_type": "code",
   "execution_count": 1,
   "metadata": {},
   "outputs": [],
   "source": [
    "#Problem\n",
    "\n",
    "#Recall the definition of the Fibonacci numbers from “Rabbits and Recurrence Relations”,\n",
    "#which followed the recurrence relation Fn=Fn−1+Fn−2 and assumed that each pair of rabbits reaches maturity in one month and produces a single pair of offspring (one male, one female) each subsequent month.\n",
    "\n",
    "#Our aim is to somehow modify this recurrence relation to achieve a dynamic programming solution in the case that all rabbits die out after a fixed number of months.\n",
    "\n",
    "#Given: Positive integers n≤100 and m≤20.\n",
    "\n",
    "#Return: The total number of pairs of rabbits that will remain after the n-th month if all rabbits live for m months."
   ]
  },
  {
   "cell_type": "code",
   "execution_count": 42,
   "metadata": {},
   "outputs": [
    {
     "data": {
      "text/plain": [
       "19696070424725807152"
      ]
     },
     "execution_count": 42,
     "metadata": {},
     "output_type": "execute_result"
    }
   ],
   "source": [
    "n = 94\n",
    "m = 20\n",
    "\n",
    "def alive_rabbits(n, m):\n",
    "    rabbits = [0] * (n+1)\n",
    "    rabbits[1] = 1\n",
    "    alive = [1] + [0] * (m - 1)\n",
    "\n",
    "    for i in range(2, n + 1):\n",
    "        new_rabbits = sum(alive[1:])\n",
    "        died = alive.pop()\n",
    "        alive = [new_rabbits] + alive\n",
    "        rabbits[i] = rabbits[i - 1] + new_rabbits - died\n",
    "    return rabbits[n]\n",
    "\n",
    "ans = alive_rabbits(n, m)\n",
    "ans"
   ]
  }
 ],
 "metadata": {
  "kernelspec": {
   "display_name": "Python 3",
   "language": "python",
   "name": "python3"
  },
  "language_info": {
   "codemirror_mode": {
    "name": "ipython",
    "version": 3
   },
   "file_extension": ".py",
   "mimetype": "text/x-python",
   "name": "python",
   "nbconvert_exporter": "python",
   "pygments_lexer": "ipython3",
   "version": "3.11.5"
  }
 },
 "nbformat": 4,
 "nbformat_minor": 2
}
