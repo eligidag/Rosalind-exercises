{
 "cells": [
  {
   "cell_type": "code",
   "execution_count": 1,
   "metadata": {},
   "outputs": [],
   "source": [
    "#Given: Six nonnegative integers, each of which does not exceed 20,000. The integers correspond to the number of couples in a population possessing each genotype pairing for a given factor.\n",
    "#In order, the six given integers represent the number of couples having the following genotypes:\n",
    "\n",
    "#  a AA-AA = AA, AA, AA, AA = 1\n",
    "#  b AA-Aa = AA, Aa, AA, Aa = 1\n",
    "#  c AA-aa = Aa, Aa, Aa, Aa = 1\n",
    "#  d Aa-Aa = AA, Aa, Aa, aa = 0.75\n",
    "#  e Aa-aa = Aa, Aa, aa, aa = 0.5\n",
    "#  f aa-aa = aa, aa, aa, aa = 0\n",
    "\n",
    "#Return: The expected number of offspring displaying the dominant phenotype in the next generation, under the assumption that every couple has exactly two offspring."
   ]
  },
  {
   "cell_type": "code",
   "execution_count": 8,
   "metadata": {},
   "outputs": [
    {
     "data": {
      "text/plain": [
       "160525.5"
      ]
     },
     "execution_count": 8,
     "metadata": {},
     "output_type": "execute_result"
    }
   ],
   "source": [
    "a = 19984\n",
    "b = 19102\n",
    "c = 19267\n",
    "d = 16971\n",
    "e = 18363\n",
    "f = 16056\n",
    "\n",
    "\n",
    "\n",
    "offsprings = (a * 2) + (b * 2) + (c * 2) + (d * 2 * 0.75 ) + (e * 2 * 0.5) + (f * 0 * 2)\n",
    "offsprings\n"
   ]
  }
 ],
 "metadata": {
  "kernelspec": {
   "display_name": "Python 3",
   "language": "python",
   "name": "python3"
  },
  "language_info": {
   "codemirror_mode": {
    "name": "ipython",
    "version": 3
   },
   "file_extension": ".py",
   "mimetype": "text/x-python",
   "name": "python",
   "nbconvert_exporter": "python",
   "pygments_lexer": "ipython3",
   "version": "3.11.5"
  }
 },
 "nbformat": 4,
 "nbformat_minor": 2
}
