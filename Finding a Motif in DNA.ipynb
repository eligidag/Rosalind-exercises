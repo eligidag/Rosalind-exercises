{
 "cells": [
  {
   "cell_type": "code",
   "execution_count": 1,
   "metadata": {},
   "outputs": [],
   "source": [
    "#Problem\n",
    "\n",
    "#Given two strings s and t, t is a substring of s if t is contained as a contiguous collection of symbols in s (as a result, t must be no longer than s).\n",
    "\n",
    "#The position of a symbol in a string is the total number of symbols found to its left, including itself\n",
    "#(e.g., the positions of all occurrences of 'U' in \"AUGCUUCAGAAAGGUCUUACG\" are 2, 5, 6, 15, 17, and 18).\n",
    "#The symbol at position i of s is denoted by s[i].\n",
    "\n",
    "#A substring of s can be represented as s[j:k], where j and k represent the starting and ending positions of the substring in s;\n",
    "#for example, if s = \"AUGCUUCAGAAAGGUCUUACG\", then s[2:5] = \"UGCU\".\n",
    "\n",
    "#The location of a substring s[j:k] is its beginning position j;\n",
    "#note that t will have multiple locations in s if it occurs more than once as a substring of s (see the Sample below).\n",
    "\n",
    "#Given: Two DNA strings s and t\n",
    "#(each of length at most 1 kbp).\n",
    "\n",
    "#eturn: All locations of t as a substring of s."
   ]
  },
  {
   "cell_type": "code",
   "execution_count": 9,
   "metadata": {},
   "outputs": [
    {
     "name": "stdout",
     "output_type": "stream",
     "text": [
      "60 67 74 138 158 182 189 267 288 295 336 431 447 529 536 605 656\n"
     ]
    }
   ],
   "source": [
    "s = \"CTTGTCGAATTATGTCGAACTAGTGTCGAAGCAGAGGGTGTCGAAGGGAATGTCGAACATGTCGAATGTCGAATGTCGAATGTCGAAATGTCGAACTGTCGAAATGTCGAAATGTCGAACTGTCGAAACTGTCGAACTGTCGAATGTCGAAATATCTTGTCGAATGTCGAAATGTCGAACATGTCGAATGTCGAATGTCGAAAATGTCGAACATGTCGAAAAGCTGTCGAAGACCAATAAACACGAATGTCGAAACTGTCGAACCTTGTCGAATGTCGAAAGTTAATTGTCGAATGTCGAATGTCGAAAGTTGTCGAATATGAGTGTCGAATCGTTGTCGAATGTCGAACATTGTCGAAGTGTCGAAGGCCGCTGTCGAAACCGTTGTCGAACTTGTCGAAAAAACTTGTCGAAGCTGTCGAATTGCCGATGTCGAATGTCGAAAATGTCGAATGTCGAAGACACTGTCGAAGGTGTCGAACTCTGTCGAAATGTCGAACTGTCGAAAATGTCGAATCTTGACACCTCTGTCGAATGTCGAATGTCGAAATGTCGAATATGTGTCGAACTGTCGAAGCTGTCGAATCTGTCGAATCTGTCGAAGTGTCGAATGTCGAATAGCCTGGTGTCGAATATCTGTCGAATTGTCGAACTATGTCGAATGTCGAAGATGTCGAAAATGTCGAAATGTCGAAAGGGCTTGTCGAAATGTCGAAGTGTCGAATTGTCGAAACTGTCGAAGGTGTCGAACTGTCGAAGCGTGTGTCGAATCATGTCGAAAGGTCTGTCGAAATAATAAATGTCGAAGACTGTCGAA\"\n",
    "t = \"TGTCGAATG\"\n",
    "\n",
    "def find_motif_location(s, t):\n",
    "    indices = []\n",
    "    start = 0\n",
    "    while True:\n",
    "        start = s.find(t, start)\n",
    "        if start == -1:\n",
    "            break\n",
    "        indices.append(start + 1)\n",
    "        start += 1\n",
    "    return indices\n",
    "\n",
    "ans = \" \".join([str(index) for index in find_motif_location(s, t)])\n",
    "print(ans)\n",
    "\n"
   ]
  }
 ],
 "metadata": {
  "kernelspec": {
   "display_name": "Python 3",
   "language": "python",
   "name": "python3"
  },
  "language_info": {
   "codemirror_mode": {
    "name": "ipython",
    "version": 3
   },
   "file_extension": ".py",
   "mimetype": "text/x-python",
   "name": "python",
   "nbconvert_exporter": "python",
   "pygments_lexer": "ipython3",
   "version": "3.11.5"
  }
 },
 "nbformat": 4,
 "nbformat_minor": 2
}
