{
 "cells": [
  {
   "cell_type": "code",
   "execution_count": 1,
   "metadata": {},
   "outputs": [],
   "source": [
    "#Problem\n",
    "#Given: Two positive integers k (k≤7) and N (N≤2k).\n",
    "#0n this problem, we begin with Tom, who in the 0th generation has genotype Aa Bb.\n",
    "#Tom has two children in the 1st generation, each of whom has two children, and so on. Each organism always mates with an organism having genotype Aa Bb.\n",
    "\n",
    "#Return: The probability that at least N Aa Bb organisms will belong to the k-th generation of Tom's family tree (don't count the Aa Bb mates at each level). Assume that Mendel's second law holds for the factors."
   ]
  },
  {
   "cell_type": "code",
   "execution_count": 22,
   "metadata": {},
   "outputs": [
    {
     "data": {
      "text/plain": [
       "0.5675291577424664"
      ]
     },
     "execution_count": 22,
     "metadata": {},
     "output_type": "execute_result"
    }
   ],
   "source": [
    "k = 5\n",
    "N = 8\n",
    "# Bb x Bb = BB, Bb, Bb, bb 1/2 * 1/2 = 1/4\n",
    "#binomial coe formula = (n!/ (k!*(n-k)!))\n",
    "\n",
    "def factorial(n):\n",
    "    if n == 0 or n == 1:\n",
    "        return 1\n",
    "    else:\n",
    "        return n * factorial(n-1)\n",
    "    \n",
    "\n",
    "def binomial_coef(n, k):\n",
    "    return factorial(n) // (factorial(k)* factorial(n-k))\n",
    "\n",
    "def prob_tom_gen(k, N):\n",
    "    total_organisms = 2**k\n",
    "    p_success = 1/4 # for AaBb\n",
    "    probability = 0\n",
    "\n",
    "    for x in range (N, total_organisms + 1):\n",
    "        prob_x =  binomial_coef(total_organisms, x) * (p_success**x) * ((1-p_success)**(total_organisms - x))\n",
    "        probability += prob_x \n",
    "    return probability\n",
    "\n",
    "prob_tom_gen_result = prob_tom_gen(k, N)\n",
    "\n",
    "prob_tom_gen_result\n",
    "\n",
    "                    "
   ]
  }
 ],
 "metadata": {
  "kernelspec": {
   "display_name": "Python 3",
   "language": "python",
   "name": "python3"
  },
  "language_info": {
   "codemirror_mode": {
    "name": "ipython",
    "version": 3
   },
   "file_extension": ".py",
   "mimetype": "text/x-python",
   "name": "python",
   "nbconvert_exporter": "python",
   "pygments_lexer": "ipython3",
   "version": "3.11.5"
  }
 },
 "nbformat": 4,
 "nbformat_minor": 2
}
