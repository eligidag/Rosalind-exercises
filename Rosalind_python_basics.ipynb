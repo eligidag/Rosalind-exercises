{
 "cells": [
  {
   "cell_type": "code",
   "execution_count": 13,
   "metadata": {},
   "outputs": [
    {
     "name": "stdout",
     "output_type": "stream",
     "text": [
      "The Zen of Python, by Tim Peters\n",
      "\n",
      "Beautiful is better than ugly.\n",
      "Explicit is better than implicit.\n",
      "Simple is better than complex.\n",
      "Complex is better than complicated.\n",
      "Flat is better than nested.\n",
      "Sparse is better than dense.\n",
      "Readability counts.\n",
      "Special cases aren't special enough to break the rules.\n",
      "Although practicality beats purity.\n",
      "Errors should never pass silently.\n",
      "Unless explicitly silenced.\n",
      "In the face of ambiguity, refuse the temptation to guess.\n",
      "There should be one-- and preferably only one --obvious way to do it.\n",
      "Although that way may not be obvious at first unless you're Dutch.\n",
      "Now is better than never.\n",
      "Although never is often better than *right* now.\n",
      "If the implementation is hard to explain, it's a bad idea.\n",
      "If the implementation is easy to explain, it may be a good idea.\n",
      "Namespaces are one honking great idea -- let's do more of those!\n"
     ]
    }
   ],
   "source": [
    "import this"
   ]
  },
  {
   "cell_type": "code",
   "execution_count": 14,
   "metadata": {},
   "outputs": [
    {
     "name": "stdout",
     "output_type": "stream",
     "text": [
      "7\n",
      "3\n",
      "10\n",
      "2.5\n",
      "1.0\n",
      "25\n"
     ]
    }
   ],
   "source": [
    "##addition\n",
    "a = 2 + 5\n",
    "print(a)\n",
    "\n",
    "##substraction\n",
    "b = 5 - 2\n",
    "print(b)\n",
    "\n",
    "##multiplication \n",
    "c = 2 * 5\n",
    "print(c)\n",
    "\n",
    "##division\n",
    "d = 5 / 2\n",
    "print(d)\n",
    "##division remainder\n",
    "e = float(5) % 2\n",
    "print(e)\n",
    "##exponentation \n",
    "f = 5**2\n",
    "print(f)"
   ]
  },
  {
   "cell_type": "code",
   "execution_count": 15,
   "metadata": {},
   "outputs": [
    {
     "name": "stdout",
     "output_type": "stream",
     "text": [
      "a is 4123132, b is 51244, a - b is 4071888\n"
     ]
    }
   ],
   "source": [
    "a = 4123132\n",
    "b = 51244\n",
    "c = a - b\n",
    "print(f\"a is {a}, b is {b}, a - b is {c}\")"
   ]
  },
  {
   "cell_type": "code",
   "execution_count": 16,
   "metadata": {},
   "outputs": [
    {
     "name": "stdout",
     "output_type": "stream",
     "text": [
      "Rosalind Franklin!!!\n"
     ]
    }
   ],
   "source": [
    "a = \"Rosalind\"\n",
    "b = \"Franklin\"\n",
    "c = \"!\"\n",
    "print(a + \" \" + b+c*3)"
   ]
  },
  {
   "cell_type": "code",
   "execution_count": 17,
   "metadata": {},
   "outputs": [
    {
     "data": {
      "text/plain": [
       "1907189"
      ]
     },
     "execution_count": 17,
     "metadata": {},
     "output_type": "execute_result"
    }
   ],
   "source": [
    "#Given: Two positive integers a and b, each less than 1000.\n",
    "\n",
    "#Return: The integer corresponding to the square of the hypotenuse of the right triangle whose legs have lengths a and b.\n",
    "\n",
    "a = 983\n",
    "b = 970\n",
    "#p\n",
    "c = a**2 + b**2\n",
    "c"
   ]
  },
  {
   "cell_type": "code",
   "execution_count": 18,
   "metadata": {},
   "outputs": [
    {
     "name": "stdout",
     "output_type": "stream",
     "text": [
      "Dormhouse\n",
      "['March hare', 'Chesire cat', 'Dormhouse', 'Alice']\n",
      "['March hare', 'Chesire cat', 'Dormhouse', 'Alice', 'Jabberwocky']\n",
      "mimsy\n"
     ]
    }
   ],
   "source": [
    "#Strings and lists\n",
    "tea_party = [\"March hare\", \"Hatter\", \"Dormhouse\", \"Alice\"]\n",
    "print(tea_party[2])\n",
    "\n",
    "tea_party[1] = \"Chesire cat\"\n",
    "print(tea_party)\n",
    "\n",
    "tea_party.append(\"Jabberwocky\")\n",
    "print(tea_party)\n",
    "\n",
    "tea_party[-2:]\n",
    "###################\n",
    "\n",
    "a = \"flimsy\"\n",
    "b = \"miserable\"\n",
    "c = b[0:1] + a[2:]\n",
    "print(c)"
   ]
  },
  {
   "cell_type": "code",
   "execution_count": 19,
   "metadata": {},
   "outputs": [
    {
     "name": "stdout",
     "output_type": "stream",
     "text": [
      "Eutamias deserti\n"
     ]
    }
   ],
   "source": [
    "#Problem\n",
    "#Given: A string s of length at most 200 letters and four integers a, b, c and d.\n",
    "\n",
    "#Return: The slice of this string from indices a through b and c through d (with space in between), inclusively. \n",
    "#In other words, we should include elements s[b] and s[d] in our slice.\n",
    "s = \"nzTstvmXuZP2WRUOh5lS1ripAR9kz3lN8ilE8J25Qw7NLi6G4cgNAlEda2eqE3yRMYrnXQQGi5EutamiasNo0ljVCSedesertiLN1aX59wrjvq1XDBSs2SCAYtvsvjRCuDMdmGJw3kwrhwMQcAlR1AfUHJ4tDpptMOy0ZXrchGqgx5ISCRVk.\"\n",
    "#22 27 97 102\n",
    "a = 74\n",
    "b = 81\n",
    "c = 91\n",
    "d = 97\n",
    "e = \" \"\n",
    "front = s[a:b + 1]\n",
    "back = s[c:d + 1]\n",
    "full = print(front+\" \"+back)\n"
   ]
  },
  {
   "cell_type": "code",
   "execution_count": 1,
   "metadata": {},
   "outputs": [
    {
     "name": "stdout",
     "output_type": "stream",
     "text": [
      "the number is higher or equal to 10\n",
      "printed a plus b is 4\n",
      "always printed\n"
     ]
    }
   ],
   "source": [
    "#Conditions and Loops\n",
    "a = 10\n",
    "b= -6\n",
    "if a < 10:\n",
    "    print(\"the number is lower than 10\")\n",
    "else:\n",
    "    print(\"the number is higher or equal to 10\")\n",
    "\n",
    "if a + b == 4:\n",
    "    print(\"printed a plus b is 4\")\n",
    "print(\"always printed\")"
   ]
  },
  {
   "cell_type": "code",
   "execution_count": 6,
   "metadata": {},
   "outputs": [
    {
     "name": "stdout",
     "output_type": "stream",
     "text": [
      "Hello! \n",
      "Hello! Hello! \n",
      "Hello! Hello! Hello! \n",
      "Hello! Hello! Hello! Hello! \n"
     ]
    }
   ],
   "source": [
    "greetings = 1\n",
    "while greetings <= 4:\n",
    "    print(\"Hello! \" * greetings)\n",
    "    greetings = greetings +1"
   ]
  },
  {
   "cell_type": "code",
   "execution_count": 12,
   "metadata": {},
   "outputs": [
    {
     "name": "stdout",
     "output_type": "stream",
     "text": [
      "Hello,  Alice !\n",
      "Hello,  Bob !\n",
      "Hello,  Charlamagne !\n"
     ]
    }
   ],
   "source": [
    "names = [\"Alice\", \"Bob\", \"Charlamagne\"]\n",
    "for name in names:\n",
    "    print(\"Hello, \",name,\"!\")"
   ]
  },
  {
   "cell_type": "code",
   "execution_count": 24,
   "metadata": {},
   "outputs": [
    {
     "name": "stdout",
     "output_type": "stream",
     "text": [
      "0\n",
      "1\n",
      "2\n",
      "3\n",
      "4\n",
      "5\n",
      "6\n",
      "7\n",
      "8\n",
      "9\n",
      "10\n",
      "range(5, 12)\n"
     ]
    }
   ],
   "source": [
    "n = 10\n",
    "for i in range(n+1):\n",
    "    print(i)\n"
   ]
  },
  {
   "cell_type": "code",
   "execution_count": 34,
   "metadata": {},
   "outputs": [
    {
     "name": "stdout",
     "output_type": "stream",
     "text": [
      "13649580\n"
     ]
    }
   ],
   "source": [
    "#Given: Two positive integers a and b (a<b<10000).\n",
    "#return: The sum of all odd integers from a through b, inclusively.\n",
    "a = 4012\n",
    "b = 8407\n",
    "counter = 0\n",
    "r = list(range(a,b+1))\n",
    "for number in r:\n",
    "    if number % 2 == 1:\n",
    "        counter = counter + number\n",
    "print(counter)"
   ]
  },
  {
   "cell_type": "code",
   "execution_count": 56,
   "metadata": {},
   "outputs": [
    {
     "name": "stdout",
     "output_type": "stream",
     "text": [
      "Some things in life are bad, they can really make you mad\n",
      "Other things just make you swear and curse\n",
      "When you're chewing on life's gristle, don't grumble give a whistle\n",
      "This will help things turn out for the best\n",
      "Always look on the bright side of life\n",
      "Always look on the right side of life\n",
      "If life seems jolly rotten, there's something you've forgotten\n",
      "And that's to laugh and smile and dance and sing\n",
      "When you're feeling in the dumps, don't be silly, chumps\n",
      "Just purse your lips and whistle, that's the thing\n",
      "So, always look on the bright side of death\n",
      "Just before you draw your terminal breath\n",
      "Life's a counterfeit and when you look at it\n",
      "Life's a laugh and death's the joke, it's true\n",
      "You see, it's all a show, keep them laughing as you go\n",
      "Just remember the last laugh is on you\n",
      "Always look on the bright side of life\n",
      "And always look on the right side of life\n",
      "Always look on the bright side of life\n",
      "And always look on the right side of life\n"
     ]
    }
   ],
   "source": [
    "#Reading and writing\n",
    "with open(\"ros.txt\", \"r\") as file:\n",
    "    lines = file.readlines()\n",
    "\n",
    "even_lines = []\n",
    "for index, line in enumerate(lines):\n",
    "    if (index + 1) % 2 == 0:\n",
    "        even_lines.append(line)\n",
    "\n",
    "for line in even_lines:\n",
    "    print(line, end=\"\")"
   ]
  },
  {
   "cell_type": "code",
   "execution_count": 64,
   "metadata": {},
   "outputs": [
    {
     "name": "stdout",
     "output_type": "stream",
     "text": [
      "{'Zoe': 'Unknown', 'Alice': '231132', 'Bill': '129999'}\n",
      "We do posses Zoe's number\n"
     ]
    }
   ],
   "source": [
    "#Dictionaries\n",
    "phones = {\"Zoe\":\"123456\",\"Alice\":\"231132\"}\n",
    "phones[\"Zoe\"] = \"Unknown\"\n",
    "phones[\"Bill\"] = \"129999\"\n",
    "print(phones)\n",
    "\n",
    "if \"Zoe\" in phones:\n",
    "    print(\"We do posses Zoe's number\")\n",
    "else:\n",
    "    print(\"Nada\")"
   ]
  },
  {
   "cell_type": "code",
   "execution_count": 86,
   "metadata": {},
   "outputs": [
    {
     "name": "stdout",
     "output_type": "stream",
     "text": [
      "When 1\n",
      "I 2\n",
      "find 1\n",
      "myself 1\n",
      "in 4\n",
      "times 1\n",
      "of 11\n",
      "trouble 1\n",
      "Mother 2\n",
      "Mary 2\n",
      "comes 2\n",
      "to 3\n",
      "me 4\n",
      "Speaking 3\n",
      "words 7\n",
      "wisdom 7\n",
      "let 30\n",
      "it 36\n",
      "be 41\n",
      "And 3\n",
      "my 1\n",
      "hour 1\n",
      "darkness 1\n",
      "she 1\n",
      "is 4\n",
      "standing 1\n",
      "right 1\n",
      "front 1\n",
      "Let 6\n",
      "Whisper 4\n",
      "when 2\n",
      "the 4\n",
      "broken 1\n",
      "hearted 1\n",
      "people 1\n",
      "living 1\n",
      "world 1\n",
      "agree 1\n",
      "There 4\n",
      "will 5\n",
      "an 4\n",
      "answer 4\n",
      "For 1\n",
      "though 1\n",
      "they 2\n",
      "may 1\n",
      "parted 1\n",
      "there 2\n",
      "still 2\n",
      "a 2\n",
      "chance 1\n",
      "that 2\n",
      "see 1\n",
      "night 1\n",
      "cloudy 1\n",
      "light 1\n",
      "shines 1\n",
      "on 1\n",
      "Shine 1\n",
      "until 1\n",
      "tomorrow 1\n",
      "wake 1\n",
      "up 1\n",
      "sound 1\n",
      "music 1\n",
      "yeah 2\n"
     ]
    }
   ],
   "source": [
    "#Given: A string s of length at most 10000 letters.\n",
    "\n",
    "#Return: The number of occurrences of each word in s,\n",
    "#where words are separated by spaces. Words are case-sensitive, and the lines in the output can be in any order.\n",
    "\n",
    "s = \"When I find myself in times of trouble Mother Mary comes to me Speaking words of wisdom let it be And in my hour of darkness she is standing right in front of me Speaking words of wisdom let it be Let it be let it be let it be let it be Whisper words of wisdom let it be And when the broken hearted people living in the world agree There will be an answer let it be For though they may be parted there is still a chance that they will see There will be an answer let it be Let it be let it be let it be let it be There will be an answer let it be Let it be let it be let it be let it be Whisper words of wisdom let it be Let it be let it be let it be let it be Whisper words of wisdom let it be And when the night is cloudy there is still a light that shines on me Shine until tomorrow let it be I wake up to the sound of music Mother Mary comes to me Speaking words of wisdom let it be Let it be let it be let it be yeah let it be There will be an answer let it be Let it be let it be let it be yeah let it be Whisper words of wisdom let it be\"\n",
    "word_count = {}\n",
    "\n",
    "for word in s.split(\" \"):\n",
    "    if word in word_count:\n",
    "        word_count[word] += 1\n",
    "    else:\n",
    "        word_count[word] = 1\n",
    "\n",
    "\n",
    "#for word, count in word_count.items():\n",
    " #   print(f\"{word}: {count}\")\n",
    "\n",
    "\n",
    "for key, value in word_count.items():\n",
    "    print(key,value)\n",
    "\n"
   ]
  },
  {
   "cell_type": "code",
   "execution_count": null,
   "metadata": {},
   "outputs": [],
   "source": []
  },
  {
   "cell_type": "code",
   "execution_count": null,
   "metadata": {},
   "outputs": [],
   "source": []
  }
 ],
 "metadata": {
  "kernelspec": {
   "display_name": "Python 3",
   "language": "python",
   "name": "python3"
  },
  "language_info": {
   "codemirror_mode": {
    "name": "ipython",
    "version": 3
   },
   "file_extension": ".py",
   "mimetype": "text/x-python",
   "name": "python",
   "nbconvert_exporter": "python",
   "pygments_lexer": "ipython3",
   "version": "3.11.5"
  }
 },
 "nbformat": 4,
 "nbformat_minor": 2
}
