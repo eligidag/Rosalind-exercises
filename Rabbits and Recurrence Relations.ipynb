{
 "cells": [
  {
   "cell_type": "code",
   "execution_count": 1,
   "metadata": {},
   "outputs": [],
   "source": [
    "#Problem\n",
    "#A sequence is an ordered collection of objects (usually numbers), which are allowed to repeat. Sequences can be finite or infinite.\n",
    "#Two examples are the finite sequence (π,−2–√,0,π) and the infinite sequence of odd numbers (1,3,5,7,9,…).\n",
    "#We use the notation an to represent the n-th term of a sequence.\n",
    "\n",
    "#A recurrence relation is a way of defining the terms of a sequence with respect to the values of previous terms.\n",
    "#In the case of Fibonacci's rabbits from the introduction, any given month will contain the rabbits that were alive the previous month, plus any new offspring.\n",
    "#A key observation is that the number of offspring in any month is equal to the number of rabbits that were alive two months prior.\n",
    "#As a result, if Fn represents the number of rabbit pairs alive after the n-th month,\n",
    "#then we obtain the Fibonacci sequence having terms Fn that are defined by the recurrence relation Fn=Fn−1+Fn−2 (with F1=F2=1 to initiate the sequence).\n",
    "\n",
    "#When finding the n-th term of a sequence defined by a recurrence relation,\n",
    "#we can simply use the recurrence relation to generate terms for progressively larger values of n.\n",
    "#This problem introduces us to the computational technique of dynamic programming,\n",
    "#which successively builds up solutions by using the answers to smaller cases.\n",
    "\n",
    "#Given: Positive integers n≤40 and k≤5.\n",
    "\n",
    "#Return: The total number of rabbit pairs that will be present after n months,\n",
    "#if we begin with 1 pair and in each generation,\n",
    "#every pair of reproduction-age rabbits produces a litter of krabbit pairs (instead of only 1 pair)."
   ]
  },
  {
   "cell_type": "code",
   "execution_count": 3,
   "metadata": {},
   "outputs": [
    {
     "name": "stdout",
     "output_type": "stream",
     "text": [
      "3855438727\n"
     ]
    }
   ],
   "source": [
    "n = 28\n",
    "k = 3\n",
    "\n",
    "\n",
    "def rabbit_pairs(n, k):\n",
    "    #first two terms as given\n",
    "    rabbits = [1,1]\n",
    "    #iterates from 3rd month to the nth month\n",
    "    for month in range (2, n):\n",
    "        #number of pairs in the current monht\n",
    "        current_pairs = rabbits[-1] + k * rabbits[-2]\n",
    "        #adds the rabits to the total count\n",
    "        rabbits.append(current_pairs)\n",
    "    return rabbits[-1]\n",
    "\n",
    "ans = rabbit_pairs(n, k)\n",
    "print(ans)\n",
    "\n"
   ]
  }
 ],
 "metadata": {
  "kernelspec": {
   "display_name": "Python 3",
   "language": "python",
   "name": "python3"
  },
  "language_info": {
   "codemirror_mode": {
    "name": "ipython",
    "version": 3
   },
   "file_extension": ".py",
   "mimetype": "text/x-python",
   "name": "python",
   "nbconvert_exporter": "python",
   "pygments_lexer": "ipython3",
   "version": "3.11.5"
  }
 },
 "nbformat": 4,
 "nbformat_minor": 2
}
