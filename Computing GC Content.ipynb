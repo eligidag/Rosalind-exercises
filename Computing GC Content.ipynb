{
 "cells": [
  {
   "cell_type": "code",
   "execution_count": 1,
   "metadata": {},
   "outputs": [
    {
     "name": "stdout",
     "output_type": "stream",
     "text": [
      "Rosalind_7510\n",
      "50.184957\n",
      "Rosalind_3824\n",
      "51.682692\n",
      "Rosalind_6071\n",
      "48.341709\n",
      "Rosalind_3565\n",
      "48.925281\n",
      "Rosalind_4241\n",
      "51.155462\n",
      "Rosalind_1835\n",
      "50.056243\n"
     ]
    }
   ],
   "source": [
    "#Problem\n",
    "#The GC-content of a DNA string is given by the percentage of symbols in the string that are 'C' or 'G'.\n",
    "#For example, the GC-content of \"AGCTATAG\" is 37.5%. Note that the reverse complement of any DNA string has the same GC-content.\n",
    "\n",
    "#DNA strings must be labeled when they are consolidated into a database.\n",
    "#A commonly used method of string labeling is called FASTA format. In this format, the string is introduced by a line that begins with '>', followed by some labeling information.\n",
    "#Subsequent lines contain the string itself; the first line to begin with '>' indicates the label of the next string.\n",
    "\n",
    "#In Rosalind's implementation, a string in FASTA format will be labeled by the ID \"Rosalind_xxxx\", where \"xxxx\" denotes a four-digit code between 0000 and 9999.\n",
    "\n",
    "#Given: At most 10 DNA strings in FASTA format (of length at most 1 kbp each).\n",
    "\n",
    "#Return: The ID of the string having the highest GC-content, followed by the GC-content of that string.\n",
    "#Rosalind allows for a default error of 0.001 in all decimal answers unless otherwise stated; please see the note on absolute error below.\n",
    "\n",
    "\n",
    "#variables to store info\n",
    "name = \"\"\n",
    "sequence = \"\"\n",
    "CG_percentage = 0\n",
    "\n",
    "#reads in the file\n",
    "with open(\"./rosalind_gc.txt\", \"r\") as file:\n",
    "    for line in file:\n",
    "        #checks for \">\" indicator and saves the name if its ==\n",
    "        if line.startswith(\">\"):\n",
    "            if sequence:\n",
    "                #calculates the CG count\n",
    "                CG_count = sequence.count(\"C\") + sequence.count(\"G\")\n",
    "                total_length = len(sequence)\n",
    "                CG_percentage = (CG_count / total_length) * 100\n",
    "                print(name)\n",
    "                print(round(CG_percentage, 6))\n",
    "            name = line.strip()[1:]\n",
    "            sequence = \"\"\n",
    "        \n",
    "        else:\n",
    "            sequence += line.strip()\n",
    "\n",
    "    if sequence:\n",
    "        CG_count = sequence.count(\"C\") + sequence.count(\"G\")\n",
    "        total_length = len(sequence)\n",
    "        CG_percentage = (CG_count / total_length) * 100\n",
    "        print(name)\n",
    "        print(round(CG_percentage, 6))\n"
   ]
  }
 ],
 "metadata": {
  "kernelspec": {
   "display_name": "Python 3",
   "language": "python",
   "name": "python3"
  },
  "language_info": {
   "codemirror_mode": {
    "name": "ipython",
    "version": 3
   },
   "file_extension": ".py",
   "mimetype": "text/x-python",
   "name": "python",
   "nbconvert_exporter": "python",
   "pygments_lexer": "ipython3",
   "version": "3.11.5"
  }
 },
 "nbformat": 4,
 "nbformat_minor": 2
}
